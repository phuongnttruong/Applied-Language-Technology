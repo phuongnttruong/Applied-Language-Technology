{
 "cells": [
  {
   "cell_type": "markdown",
   "id": "5152ed42",
   "metadata": {
    "deletable": false
   },
   "source": [
    "# Pattern matching\n",
    "\n",
    "See the learning materials associated with this exercise <a href=\"https://applied-language-technology.mooc.fi/html/notebooks/part_iii/03_pattern_matching.html\" target=\"blank_\">here</a>.\n",
    "\n",
    "For instructions on how to use TestMyCode (TMC) to test your code and submit it to the server, see <a href=\"https://applied-language-technology.mooc.fi/html/tmc.html\" target=\"blank_\">here</a>.\n",
    "\n",
    "Remember to save this Notebook before testing your code. Press <kbd>Control</kbd>+<kbd>s</kbd> or select the *File* menu and click *Save*.\n",
    "\n",
    "**The maximum number of points for this exercise is 35.**"
   ]
  },
  {
   "cell_type": "markdown",
   "id": "9f1b2982",
   "metadata": {
    "deletable": false
   },
   "source": [
    "## 1. Import the *Matcher* class (2 points)\n",
    "\n",
    "Import the *Matcher* class from the `spacy.matcher` submodule into Python."
   ]
  },
  {
   "cell_type": "code",
   "execution_count": 1,
   "id": "e753aad2",
   "metadata": {
    "deletable": false,
    "test": "import_matcher"
   },
   "outputs": [
    {
     "name": "stderr",
     "output_type": "stream",
     "text": [
      "2023-09-05 14:28:12.837469: W tensorflow/stream_executor/platform/default/dso_loader.cc:64] Could not load dynamic library 'libcudart.so.11.0'; dlerror: libcudart.so.11.0: cannot open shared object file: No such file or directory\n",
      "2023-09-05 14:28:12.837525: I tensorflow/stream_executor/cuda/cudart_stub.cc:29] Ignore above cudart dlerror if you do not have a GPU set up on your machine.\n"
     ]
    }
   ],
   "source": [
    "# Write your answer below this line\n",
    "from spacy.matcher import Matcher"
   ]
  },
  {
   "cell_type": "markdown",
   "id": "d005bb1c",
   "metadata": {
    "deletable": false
   },
   "source": [
    "## 2. Create a *Matcher* object (3 points)\n",
    "\n",
    "Use the *Matcher* class to create a *Matcher* object.\n",
    "\n",
    "The variable `nlp` contains a spaCy *Language* object with a small language model for English. \n",
    "\n",
    "Provide the *Vocabulary* of the language model as input to the `vocab` argument of the *Matcher* object.\n",
    "\n",
    "Store the *Matcher* object under the variable `en_matcher`."
   ]
  },
  {
   "cell_type": "code",
   "execution_count": 2,
   "id": "63dc5501",
   "metadata": {
    "deletable": false,
    "test": "create_matcher"
   },
   "outputs": [],
   "source": [
    "# Import spacy\n",
    "import spacy\n",
    "\n",
    "# Load a small language model for English; assign result under 'nlp'\n",
    "nlp = spacy.load('en_core_web_sm')\n",
    "\n",
    "# Write your answer below this line\n",
    "en_matcher = Matcher(vocab=nlp.vocab)"
   ]
  },
  {
   "cell_type": "code",
   "execution_count": 3,
   "id": "2ea871da-3f3b-4f47-9c8b-763b674490c9",
   "metadata": {},
   "outputs": [
    {
     "data": {
      "text/plain": [
       "<spacy.matcher.matcher.Matcher at 0x7fc685e0d1c0>"
      ]
     },
     "execution_count": 3,
     "metadata": {},
     "output_type": "execute_result"
    }
   ],
   "source": [
    "en_matcher"
   ]
  },
  {
   "cell_type": "markdown",
   "id": "83a54ca8",
   "metadata": {
    "deletable": false
   },
   "source": [
    "## 3. Define a pattern rule (5 points)\n",
    "\n",
    "Define a pattern rule for matching sequences that consist of determiners (`DET`), adjectives (`ADJ`) and nouns (`NOUN`).\n",
    "\n",
    " 1. Use the coarse part-of-speech tags (`POS`) provided above for matching.\n",
    " 2. Define the pattern rules using Python dictionaries.\n",
    " 3. Store the dictionaries into a list named `pattern_rule`.\n",
    " \n",
    "Remember that list items are separated by commas, whereas the keys and values of a dictionary are separated by colons. In this case, both keys and values must be string objects."
   ]
  },
  {
   "cell_type": "code",
   "execution_count": 4,
   "id": "59a3be5a",
   "metadata": {
    "deletable": false,
    "test": "define_pattern"
   },
   "outputs": [],
   "source": [
    "# Write your answer below this line\n",
    "pattern_rule = [{'POS': 'DET'}, {'POS': 'ADJ'}, {'POS': 'NOUN'}]"
   ]
  },
  {
   "cell_type": "markdown",
   "id": "f4dd5cfe",
   "metadata": {
    "deletable": false
   },
   "source": [
    "## 4. Add the pattern rule to the *Matcher* object (5 points)\n",
    "\n",
    "Add the pattern rule defined in the `pattern_rule` list to the *Matcher* object stored under the variable `en_matcher`.\n",
    "\n",
    " 1. Use the `add()` method of the *Matcher* object.\n",
    " 2. Name the pattern `det-adj-noun` for the pattern rule.\n",
    " 3. Provide the pattern rule stored under `pattern_rule` to the `patterns` argument.\n",
    " \n",
    "Remember that a single pattern rule can contain multiple rules; hence the input to the `patterns` argument must be a list of lists."
   ]
  },
  {
   "cell_type": "code",
   "execution_count": 5,
   "id": "e679a331",
   "metadata": {
    "deletable": false,
    "test": "add_pattern"
   },
   "outputs": [],
   "source": [
    "# Write your answer below this line\n",
    "en_matcher.add(\"det-adj-noun\", patterns=[pattern_rule])"
   ]
  },
  {
   "cell_type": "code",
   "execution_count": 6,
   "id": "8a8f5018-6edc-4478-8a61-b547227b77c1",
   "metadata": {},
   "outputs": [
    {
     "data": {
      "text/plain": [
       "<spacy.matcher.matcher.Matcher at 0x7fc685e0d1c0>"
      ]
     },
     "execution_count": 6,
     "metadata": {},
     "output_type": "execute_result"
    }
   ],
   "source": [
    "en_matcher"
   ]
  },
  {
   "cell_type": "markdown",
   "id": "ffded742",
   "metadata": {
    "deletable": false
   },
   "source": [
    "## 5. Apply the *Matcher* to a spaCy *Doc* object (5 points)\n",
    "\n",
    "The variable `doc` contains a spaCy *Doc* object with some text.\n",
    "\n",
    " 1. Apply the *Matcher* object under `en_matcher` to the *Doc* object to find matching patterns in the text.\n",
    " 2. Instruct spaCy to return the matches as *Span* objects.\n",
    " 3. Store the matches under the variable `en_matches`."
   ]
  },
  {
   "cell_type": "code",
   "execution_count": 7,
   "id": "943c828c",
   "metadata": {
    "deletable": false,
    "test": "apply_matcher"
   },
   "outputs": [],
   "source": [
    "\n",
    "doc = nlp(open(file='data/data.txt', encoding='utf-8', mode='r').read())\n",
    "\n",
    "# Write your answer below this line\n",
    "\n",
    "en_matches = en_matcher(doc, as_spans=True)\n"
   ]
  },
  {
   "cell_type": "code",
   "execution_count": 8,
   "id": "afecd0fd-03a4-4a3e-94fe-ae91ce4ac8b1",
   "metadata": {},
   "outputs": [
    {
     "data": {
      "text/plain": [
       "[every inhabited continent,\n",
       " the first month,\n",
       " the major camps,\n",
       " a few demands,\n",
       " the Great Recession,\n",
       " the same kind,\n",
       " the global occupy,\n",
       " a worldwide protest,\n",
       " a peaceful occupation,\n",
       " the OccupyWallStreet.org web,\n",
       " the senior editor,\n",
       " The first protest,\n",
       " the tenth anniversary,\n",
       " a political slogan,\n",
       " the same time,\n",
       " the average income,\n",
       " a minimum income,\n",
       " the American population,\n",
       " the Great Recession,\n",
       " The Great Recession,\n",
       " the economic expansion,\n",
       " a larger share,\n",
       " a widespread ignorance,\n",
       " the true income,\n",
       " the early weeks,\n",
       " the early stages,\n",
       " a global march,\n",
       " the corrupting effect,\n",
       " a Presidential commission,\n",
       " the very power,\n",
       " a clear demand,\n",
       " a global collaboration,\n",
       " The global movement,\n",
       " The progressive provider,\n",
       " the illegal practices,\n",
       " a progressive stack,\n",
       " The progressive stack,\n",
       " A subsequent film,\n",
       " a clear objective,\n",
       " the economic system,\n",
       " a particular location,\n",
       " the earliest days,\n",
       " the vast majority,\n",
       " the global movement,\n",
       " an immense strength,\n",
       " The social media,\n",
       " the social media,\n",
       " the following year,\n",
       " the political conversation,\n",
       " the unfair usage,\n",
       " some presidential candidates,\n",
       " The Canadian editor,\n",
       " a global protest,\n",
       " a federal judge,\n",
       " a reasonable officer,\n",
       " the noisy environment,\n",
       " a single bull,\n",
       " the early morning,\n",
       " the general public,\n",
       " the other side,\n",
       " a coordinated crackdown,\n",
       " the other camps,\n",
       " no physical action,\n",
       " a forcible eviction,\n",
       " a different view,\n",
       " a narrow focus,\n",
       " the informal leaders,\n",
       " the global movement,\n",
       " a tentative agreement,\n",
       " the west coast,\n",
       " A worldwide poll,\n",
       " the early morning,\n",
       " the Armenian society,\n",
       " the following day,\n",
       " an ongoing occupation,\n",
       " a large Occupy,\n",
       " the same day,\n",
       " a local entity,\n",
       " an historical part,\n",
       " a permanent occupation,\n",
       " a mobile camp,\n",
       " an iconic landmark,\n",
       " the occupied area,\n",
       " the same day,\n",
       " the popular assembly,\n",
       " the largest assembly,\n",
       " a few protesters,\n",
       " a peaceful protest,\n",
       " the Nepali state,\n",
       " the widespread problem,\n",
       " the prime minister,\n",
       " a coherent set,\n",
       " the Federal government,\n",
       " the organized labour,\n",
       " a partial restoration,\n",
       " the official rate,\n",
       " some major cities,\n",
       " no hierarchical structure,\n",
       " the social media,\n",
       " the Occupy groups,\n",
       " a public amenity,\n",
       " no serious crisis,\n",
       " the legitimate basis,\n",
       " a radical change,\n",
       " any traditional party,\n",
       " the economic crisis,\n",
       " the Icelandic protest,\n",
       " The initial protests,\n",
       " The current protests,\n",
       " The oppressive reaction,\n",
       " a wide range,\n",
       " an environmentalist protest,\n",
       " the initial target,\n",
       " an indefinite encampment,\n",
       " an indefinite encampment,\n",
       " a national strike,\n",
       " a new camp,\n",
       " the original occupation,\n",
       " a critical mass,\n",
       " the near future,\n",
       " the historic student,\n",
       " a senior management,\n",
       " the financial district,\n",
       " a new camp,\n",
       " The original location,\n",
       " a large march,\n",
       " a tear gas,\n",
       " a deliberate decision,\n",
       " the younger generation,\n",
       " some legitimate frustration,\n",
       " the capitalist system,\n",
       " the biggest issue,\n",
       " a worldwide precedent,\n",
       " The only party,\n",
       " a fantastic step,\n",
       " the Scottish government,\n",
       " the upper section,\n",
       " the financial crisis,\n",
       " the American media,\n",
       " the casual ravages,\n",
       " An entire generation,\n",
       " the current order,\n",
       " a global spirit,\n",
       " A global survey,\n",
       " a favourable response,\n",
       " the highest sympathy,\n",
       " the federal budget,\n",
       " the large amount,\n",
       " a national conversation,\n",
       " the last week,\n",
       " no financial means,\n",
       " an overwhelming majority,\n",
       " a global impact,\n",
       " the political debate,\n",
       " some sympathetic commentators,\n",
       " the electoral process,\n",
       " the best interests,\n",
       " the global policy,\n",
       " the super-,\n",
       " the political space,\n",
       " the economic left,\n",
       " a greater share,\n",
       " a central theme,\n",
       " a divisive issue,\n",
       " a major part,\n",
       " the political discourse,\n",
       " a potential plan,\n",
       " a federal complaint,\n",
       " a confidential source,\n",
       " an earlier claim,\n",
       " The modern ideology,\n",
       " This singular dominance,\n",
       " the long list,\n",
       " a single demand,\n",
       " the ontological dominance,\n",
       " The biggest criticism,\n",
       " a lasting vision,\n",
       " an alternative future,\n",
       " a communist party,\n",
       " the vast majority,\n",
       " the big banks,\n",
       " a larger view]"
      ]
     },
     "execution_count": 8,
     "metadata": {},
     "output_type": "execute_result"
    }
   ],
   "source": [
    "en_matches"
   ]
  },
  {
   "cell_type": "markdown",
   "id": "90609d3e",
   "metadata": {
    "deletable": false
   },
   "source": [
    "## 6. Create a *DependencyMatcher* object (3 points)\n",
    "\n",
    "Create a spaCy *DependencyMatcher* object. \n",
    "\n",
    "Use the *Vocabulary* of the *Language* object stored under the variable `nlp`.\n",
    "\n",
    "Store the *DependencyMatcher* object under the variable `en_dep_matcher`."
   ]
  },
  {
   "cell_type": "code",
   "execution_count": 9,
   "id": "1fed778b",
   "metadata": {
    "deletable": false,
    "test": "create_dep_matcher"
   },
   "outputs": [],
   "source": [
    "# Import the DependencyMatcher class from spacy.matcher submodule\n",
    "from spacy.matcher import DependencyMatcher\n",
    "\n",
    "# Write your answer below this line\n",
    "en_dep_matcher = DependencyMatcher(vocab=nlp.vocab)"
   ]
  },
  {
   "cell_type": "markdown",
   "id": "fb678a6b",
   "metadata": {
    "deletable": false
   },
   "source": [
    "## 7. Define a rule for matching syntactic dependencies (5 points)\n",
    "\n",
    "Define a pattern rule for matching the nominal subjects (`nsubj`) of the verb **'be'**. Use the key `LEMMA` to match the lemmas of this verb.\n",
    "\n",
    " 1. Start by defining the anchor pattern. Use a dictionary with the keys `RIGHT_ID` and `RIGHT_ATTRS` to define the pattern. \n",
    " 2. Continue by defining the second pattern. Use a dictionary, and connect this pattern to the anchor pattern using the key `LEFT_ID`. Define the relationship between this pattern and the anchor using the key `REL_OP`.\n",
    " 3. Store the two dictionaries into a list named `dep_rule`. \n",
    " \n",
    "Tips: You can define the names used for the `RIGHT_ID` and `LEFT_ID` attributes yourself."
   ]
  },
  {
   "cell_type": "code",
   "execution_count": 10,
   "id": "435e89ac",
   "metadata": {
    "deletable": false,
    "test": "define_dep_rule"
   },
   "outputs": [],
   "source": [
    "# Write your answer below this line\n",
    "dep_rule = [{'RIGHT_ID': 'verb', 'RIGHT_ATTRS': {'LEMMA': 'be'}},\n",
    "               {'LEFT_ID': 'verb', 'REL_OP': '>', 'RIGHT_ID': 'subject', 'RIGHT_ATTRS': {'DEP': 'nsubj'}}\n",
    "              ]"
   ]
  },
  {
   "cell_type": "markdown",
   "id": "27b466ab",
   "metadata": {
    "deletable": false
   },
   "source": [
    "## 8. Add the pattern rule to the *DependencyMatcher* object and apply it to a *Doc* (7 points)\n",
    "\n",
    "Add the pattern rule defined in the `dep_rule` list to the *DependencyMatcher* object stored under the variable `en_dep_matcher`.\n",
    "\n",
    " 1. Use the `add()` method of the *DependencyMatcher* object.\n",
    " 2. Name the pattern `is_nsubj` for the pattern rule.\n",
    " 3. Provide the pattern rule stored under `dep_rule` to the `patterns` argument.\n",
    " 4. Apply the *DependencyMatcher* object to the *Doc* object under `doc`.\n",
    " 5. Store the resulting matches under the variable `en_dep_matches`."
   ]
  },
  {
   "cell_type": "code",
   "execution_count": 11,
   "id": "ce034d55",
   "metadata": {
    "deletable": false,
    "test": "apply_dep_matcher"
   },
   "outputs": [
    {
     "data": {
      "text/plain": [
       "[(10072227686199776841, [6, 5]),\n",
       " (10072227686199776841, [316, 315]),\n",
       " (10072227686199776841, [417, 416]),\n",
       " (10072227686199776841, [481, 480]),\n",
       " (10072227686199776841, [692, 691]),\n",
       " (10072227686199776841, [877, 870]),\n",
       " (10072227686199776841, [1021, 1015]),\n",
       " (10072227686199776841, [1021, 1019]),\n",
       " (10072227686199776841, [1252, 1246]),\n",
       " (10072227686199776841, [1343, 1330]),\n",
       " (10072227686199776841, [1532, 1531]),\n",
       " (10072227686199776841, [1549, 1548]),\n",
       " (10072227686199776841, [1611, 1608]),\n",
       " (10072227686199776841, [1685, 1670]),\n",
       " (10072227686199776841, [1728, 1720]),\n",
       " (10072227686199776841, [1836, 1835]),\n",
       " (10072227686199776841, [2126, 2119]),\n",
       " (10072227686199776841, [2278, 2277]),\n",
       " (10072227686199776841, [2626, 2618]),\n",
       " (10072227686199776841, [2677, 2676]),\n",
       " (10072227686199776841, [2726, 2725]),\n",
       " (10072227686199776841, [2764, 2762]),\n",
       " (10072227686199776841, [3012, 3007]),\n",
       " (10072227686199776841, [3175, 3174]),\n",
       " (10072227686199776841, [3301, 3295]),\n",
       " (10072227686199776841, [3698, 3693]),\n",
       " (10072227686199776841, [3806, 3805]),\n",
       " (10072227686199776841, [4170, 4169]),\n",
       " (10072227686199776841, [4255, 4254]),\n",
       " (10072227686199776841, [4409, 4408]),\n",
       " (10072227686199776841, [4416, 4415]),\n",
       " (10072227686199776841, [4559, 4558]),\n",
       " (10072227686199776841, [4786, 4784]),\n",
       " (10072227686199776841, [5047, 5040]),\n",
       " (10072227686199776841, [5084, 5082]),\n",
       " (10072227686199776841, [5106, 5105]),\n",
       " (10072227686199776841, [5698, 5691]),\n",
       " (10072227686199776841, [5708, 5707]),\n",
       " (10072227686199776841, [5998, 5997]),\n",
       " (10072227686199776841, [6049, 6048]),\n",
       " (10072227686199776841, [6072, 6070]),\n",
       " (10072227686199776841, [6693, 6692]),\n",
       " (10072227686199776841, [6940, 6939]),\n",
       " (10072227686199776841, [7001, 6997]),\n",
       " (10072227686199776841, [7087, 7086]),\n",
       " (10072227686199776841, [7212, 7211]),\n",
       " (10072227686199776841, [7438, 7428]),\n",
       " (10072227686199776841, [7494, 7487]),\n",
       " (10072227686199776841, [7642, 7637]),\n",
       " (10072227686199776841, [8035, 8034]),\n",
       " (10072227686199776841, [8094, 8093]),\n",
       " (10072227686199776841, [8413, 8400]),\n",
       " (10072227686199776841, [8550, 8536]),\n",
       " (10072227686199776841, [8725, 8721]),\n",
       " (10072227686199776841, [8807, 8806]),\n",
       " (10072227686199776841, [8822, 8821]),\n",
       " (10072227686199776841, [9087, 9086]),\n",
       " (10072227686199776841, [9098, 9097]),\n",
       " (10072227686199776841, [9116, 9115]),\n",
       " (10072227686199776841, [9150, 9149]),\n",
       " (10072227686199776841, [9828, 9827]),\n",
       " (10072227686199776841, [10287, 10283]),\n",
       " (10072227686199776841, [10322, 10321]),\n",
       " (10072227686199776841, [10369, 10368]),\n",
       " (10072227686199776841, [10684, 10683]),\n",
       " (10072227686199776841, [10789, 10788]),\n",
       " (10072227686199776841, [10968, 10967]),\n",
       " (10072227686199776841, [11152, 11151]),\n",
       " (10072227686199776841, [11196, 11195]),\n",
       " (10072227686199776841, [11229, 11223]),\n",
       " (10072227686199776841, [11426, 11422]),\n",
       " (10072227686199776841, [11475, 11472]),\n",
       " (10072227686199776841, [11633, 11632]),\n",
       " (10072227686199776841, [11643, 11642]),\n",
       " (10072227686199776841, [11651, 11650]),\n",
       " (10072227686199776841, [11876, 11875]),\n",
       " (10072227686199776841, [11883, 11882]),\n",
       " (10072227686199776841, [11931, 11930]),\n",
       " (10072227686199776841, [11994, 11993]),\n",
       " (10072227686199776841, [12019, 12018]),\n",
       " (10072227686199776841, [12034, 12033]),\n",
       " (10072227686199776841, [12074, 12073]),\n",
       " (10072227686199776841, [12112, 12111]),\n",
       " (10072227686199776841, [12216, 12210]),\n",
       " (10072227686199776841, [12478, 12477]),\n",
       " (10072227686199776841, [12514, 12492]),\n",
       " (10072227686199776841, [12688, 12687]),\n",
       " (10072227686199776841, [12742, 12734]),\n",
       " (10072227686199776841, [12751, 12750]),\n",
       " (10072227686199776841, [12800, 12794]),\n",
       " (10072227686199776841, [13008, 13007]),\n",
       " (10072227686199776841, [13259, 13254]),\n",
       " (10072227686199776841, [13473, 13470]),\n",
       " (10072227686199776841, [13683, 13681]),\n",
       " (10072227686199776841, [14185, 14184]),\n",
       " (10072227686199776841, [14470, 14466]),\n",
       " (10072227686199776841, [14474, 14473]),\n",
       " (10072227686199776841, [14520, 14519]),\n",
       " (10072227686199776841, [14524, 14523]),\n",
       " (10072227686199776841, [14748, 14747]),\n",
       " (10072227686199776841, [14830, 14829])]"
      ]
     },
     "execution_count": 11,
     "metadata": {},
     "output_type": "execute_result"
    }
   ],
   "source": [
    "# Write your answer below this line\n",
    "# Add the pattern to the matcher under the name 'nsubj_verb'\n",
    "en_dep_matcher.add('is_nsubj', patterns=[dep_rule])\n",
    "\n",
    "# Apply the DependencyMatcher to the Doc object under 'doc'; Store the result \n",
    "# under the variable 'dep_matches'.\n",
    "en_dep_matches = en_dep_matcher(doc)\n",
    "\n",
    "# Call the variable to examine the output\n",
    "en_dep_matches\n"
   ]
  },
  {
   "cell_type": "code",
   "execution_count": null,
   "id": "e110345b-d67c-4dc3-9a20-161484143d8c",
   "metadata": {},
   "outputs": [],
   "source": []
  }
 ],
 "metadata": {
  "celltoolbar": "Edit Metadata",
  "kernelspec": {
   "display_name": "Python 3 (ipykernel)",
   "language": "python",
   "name": "python3"
  },
  "language_info": {
   "codemirror_mode": {
    "name": "ipython",
    "version": 3
   },
   "file_extension": ".py",
   "mimetype": "text/x-python",
   "name": "python",
   "nbconvert_exporter": "python",
   "pygments_lexer": "ipython3",
   "version": "3.9.7"
  }
 },
 "nbformat": 4,
 "nbformat_minor": 5
}
