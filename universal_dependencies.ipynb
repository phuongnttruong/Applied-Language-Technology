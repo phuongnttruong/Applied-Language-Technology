{
 "cells": [
  {
   "cell_type": "markdown",
   "id": "27a6f7d2",
   "metadata": {
    "deletable": false
   },
   "source": [
    "# Universal Dependencies\n",
    "\n",
    "See the learning materials associated with this exercise <a href=\"https://applied-language-technology.mooc.fi/html/notebooks/part_iii/02_universal_dependencies.html\" target=\"blank_\">here</a>.\n",
    "\n",
    "For instructions on how to use TestMyCode (TMC) to test your code and submit it to the server, see <a href=\"https://applied-language-technology.mooc.fi/html/tmc.html\" target=\"blank_\">here</a>.\n",
    "\n",
    "Remember to save this Notebook before testing your code. Press <kbd>Control</kbd>+<kbd>s</kbd> or select the *File* menu and click *Save*.\n",
    "\n",
    "**The maximum number of points for this exercise is 25.**"
   ]
  },
  {
   "cell_type": "markdown",
   "id": "9f4f935e",
   "metadata": {
    "deletable": false
   },
   "source": [
    "## 1. Import the spaCy and spacy-stanza libraries (3 points)\n",
    "\n",
    "Import the spaCy (`spacy`) and spacy-stanza (`spacy_stanza`) natural language processing libraries into Python."
   ]
  },
  {
   "cell_type": "code",
   "execution_count": 1,
   "id": "4cc0ffa8",
   "metadata": {
    "deletable": false,
    "test": "import_libraries"
   },
   "outputs": [
    {
     "name": "stderr",
     "output_type": "stream",
     "text": [
      "2023-09-04 11:18:05.441944: W tensorflow/stream_executor/platform/default/dso_loader.cc:64] Could not load dynamic library 'libcudart.so.11.0'; dlerror: libcudart.so.11.0: cannot open shared object file: No such file or directory\n",
      "2023-09-04 11:18:05.442010: I tensorflow/stream_executor/cuda/cudart_stub.cc:29] Ignore above cudart dlerror if you do not have a GPU set up on your machine.\n"
     ]
    }
   ],
   "source": [
    "# Write your answer below this line\n",
    "import spacy\n",
    "import spacy_stanza"
   ]
  },
  {
   "cell_type": "markdown",
   "id": "ad194da4",
   "metadata": {
    "deletable": false
   },
   "source": [
    "## 2. Load a Stanza language model for Finnish into spaCy using spacy-stanza (3 points)\n",
    "\n",
    "Use the spacy-stanza library to load a Stanza language model for Finnish into spaCy.\n",
    "\n",
    "The language model has been pre-installed on your server.\n",
    "\n",
    "Store the resulting *Language* object under the variable `pipe_fi`."
   ]
  },
  {
   "cell_type": "code",
   "execution_count": 2,
   "id": "50db0b2a",
   "metadata": {
    "deletable": false,
    "test": "load_model"
   },
   "outputs": [
    {
     "name": "stderr",
     "output_type": "stream",
     "text": [
      "2023-09-04 11:18:10 INFO: Loading these models for language: fi (Finnish):\n",
      "=======================\n",
      "| Processor | Package |\n",
      "-----------------------\n",
      "| tokenize  | tdt     |\n",
      "| mwt       | tdt     |\n",
      "| pos       | tdt     |\n",
      "| lemma     | tdt     |\n",
      "| depparse  | tdt     |\n",
      "| ner       | turku   |\n",
      "=======================\n",
      "\n",
      "2023-09-04 11:18:10 INFO: Use device: cpu\n",
      "2023-09-04 11:18:10 INFO: Loading: tokenize\n",
      "2023-09-04 11:18:10 INFO: Loading: mwt\n",
      "2023-09-04 11:18:10 INFO: Loading: pos\n",
      "2023-09-04 11:18:11 INFO: Loading: lemma\n",
      "2023-09-04 11:18:11 INFO: Loading: depparse\n",
      "2023-09-04 11:18:12 INFO: Loading: ner\n",
      "2023-09-04 11:18:13 INFO: Done loading processors!\n"
     ]
    }
   ],
   "source": [
    "# Write your answer below this line\n",
    "pipe_fi = spacy_stanza.load_pipeline(name='fi')\n"
   ]
  },
  {
   "cell_type": "markdown",
   "id": "6515063b",
   "metadata": {
    "deletable": false
   },
   "source": [
    "## 3. Process the string stored under the variable `example` using the language model (3 points)\n",
    "\n",
    "Provide the text stored under the variable `example` as input to the spaCy *Language* object under `pipe_fi`.\n",
    "\n",
    "Store the resulting *Doc* object under the variable `example_doc`."
   ]
  },
  {
   "cell_type": "code",
   "execution_count": 3,
   "id": "f3ea2f6a",
   "metadata": {
    "deletable": false,
    "test": "process_text"
   },
   "outputs": [
    {
     "data": {
      "text/plain": [
       "Papua-Uuteen-Guineaan kuuluva Bougainvillen autonominen alue pyrkii itsenäistymään vuoteen 2027 mennessä."
      ]
     },
     "execution_count": 3,
     "metadata": {},
     "output_type": "execute_result"
    }
   ],
   "source": [
    "# Create an example string\n",
    "example = 'Papua-Uuteen-Guineaan kuuluva Bougainvillen autonominen alue pyrkii itsenäistymään vuoteen 2027 mennessä.'\n",
    "\n",
    "# Write your answer below this line\n",
    "example_doc = pipe_fi(example)\n",
    "example_doc"
   ]
  },
  {
   "cell_type": "markdown",
   "id": "591c55c8",
   "metadata": {
    "deletable": false
   },
   "source": [
    "## 4. Examine dependencies (6 points)\n",
    "\n",
    "Run the cell below to import the displacy module from spaCy, and to render the syntactic dependencies in the *Doc* object `example_doc`."
   ]
  },
  {
   "cell_type": "code",
   "execution_count": 4,
   "id": "e1ffe0fc",
   "metadata": {
    "deletable": false
   },
   "outputs": [
    {
     "data": {
      "text/html": [
       "<span class=\"tex2jax_ignore\"><svg xmlns=\"http://www.w3.org/2000/svg\" xmlns:xlink=\"http://www.w3.org/1999/xlink\" xml:lang=\"fi\" id=\"fb2a2902ec8048799fd6e658c15178ed-0\" class=\"displacy\" width=\"1800\" height=\"399.5\" direction=\"ltr\" style=\"max-width: none; height: 399.5px; color: #000000; background: #ffffff; font-family: Arial; direction: ltr\">\n",
       "<text class=\"displacy-token\" fill=\"currentColor\" text-anchor=\"middle\" y=\"309.5\">\n",
       "    <tspan class=\"displacy-word\" fill=\"currentColor\" x=\"50\">Papua-Uuteen-Guineaan</tspan>\n",
       "    <tspan class=\"displacy-tag\" dy=\"2em\" fill=\"currentColor\" x=\"50\">PROPN</tspan>\n",
       "</text>\n",
       "\n",
       "<text class=\"displacy-token\" fill=\"currentColor\" text-anchor=\"middle\" y=\"309.5\">\n",
       "    <tspan class=\"displacy-word\" fill=\"currentColor\" x=\"225\">kuuluva</tspan>\n",
       "    <tspan class=\"displacy-tag\" dy=\"2em\" fill=\"currentColor\" x=\"225\">VERB</tspan>\n",
       "</text>\n",
       "\n",
       "<text class=\"displacy-token\" fill=\"currentColor\" text-anchor=\"middle\" y=\"309.5\">\n",
       "    <tspan class=\"displacy-word\" fill=\"currentColor\" x=\"400\">Bougainvillen</tspan>\n",
       "    <tspan class=\"displacy-tag\" dy=\"2em\" fill=\"currentColor\" x=\"400\">PROPN</tspan>\n",
       "</text>\n",
       "\n",
       "<text class=\"displacy-token\" fill=\"currentColor\" text-anchor=\"middle\" y=\"309.5\">\n",
       "    <tspan class=\"displacy-word\" fill=\"currentColor\" x=\"575\">autonominen</tspan>\n",
       "    <tspan class=\"displacy-tag\" dy=\"2em\" fill=\"currentColor\" x=\"575\">ADJ</tspan>\n",
       "</text>\n",
       "\n",
       "<text class=\"displacy-token\" fill=\"currentColor\" text-anchor=\"middle\" y=\"309.5\">\n",
       "    <tspan class=\"displacy-word\" fill=\"currentColor\" x=\"750\">alue</tspan>\n",
       "    <tspan class=\"displacy-tag\" dy=\"2em\" fill=\"currentColor\" x=\"750\">NOUN</tspan>\n",
       "</text>\n",
       "\n",
       "<text class=\"displacy-token\" fill=\"currentColor\" text-anchor=\"middle\" y=\"309.5\">\n",
       "    <tspan class=\"displacy-word\" fill=\"currentColor\" x=\"925\">pyrkii</tspan>\n",
       "    <tspan class=\"displacy-tag\" dy=\"2em\" fill=\"currentColor\" x=\"925\">VERB</tspan>\n",
       "</text>\n",
       "\n",
       "<text class=\"displacy-token\" fill=\"currentColor\" text-anchor=\"middle\" y=\"309.5\">\n",
       "    <tspan class=\"displacy-word\" fill=\"currentColor\" x=\"1100\">itsenäistymään</tspan>\n",
       "    <tspan class=\"displacy-tag\" dy=\"2em\" fill=\"currentColor\" x=\"1100\">VERB</tspan>\n",
       "</text>\n",
       "\n",
       "<text class=\"displacy-token\" fill=\"currentColor\" text-anchor=\"middle\" y=\"309.5\">\n",
       "    <tspan class=\"displacy-word\" fill=\"currentColor\" x=\"1275\">vuoteen</tspan>\n",
       "    <tspan class=\"displacy-tag\" dy=\"2em\" fill=\"currentColor\" x=\"1275\">NOUN</tspan>\n",
       "</text>\n",
       "\n",
       "<text class=\"displacy-token\" fill=\"currentColor\" text-anchor=\"middle\" y=\"309.5\">\n",
       "    <tspan class=\"displacy-word\" fill=\"currentColor\" x=\"1450\">2027</tspan>\n",
       "    <tspan class=\"displacy-tag\" dy=\"2em\" fill=\"currentColor\" x=\"1450\">NUM</tspan>\n",
       "</text>\n",
       "\n",
       "<text class=\"displacy-token\" fill=\"currentColor\" text-anchor=\"middle\" y=\"309.5\">\n",
       "    <tspan class=\"displacy-word\" fill=\"currentColor\" x=\"1625\">mennessä.</tspan>\n",
       "    <tspan class=\"displacy-tag\" dy=\"2em\" fill=\"currentColor\" x=\"1625\">ADP</tspan>\n",
       "</text>\n",
       "\n",
       "<g class=\"displacy-arrow\">\n",
       "    <path class=\"displacy-arc\" id=\"arrow-fb2a2902ec8048799fd6e658c15178ed-0-0\" stroke-width=\"2px\" d=\"M70,264.5 C70,177.0 215.0,177.0 215.0,264.5\" fill=\"none\" stroke=\"currentColor\"/>\n",
       "    <text dy=\"1.25em\" style=\"font-size: 0.8em; letter-spacing: 1px\">\n",
       "        <textPath xlink:href=\"#arrow-fb2a2902ec8048799fd6e658c15178ed-0-0\" class=\"displacy-label\" startOffset=\"50%\" side=\"left\" fill=\"currentColor\" text-anchor=\"middle\">obl</textPath>\n",
       "    </text>\n",
       "    <path class=\"displacy-arrowhead\" d=\"M70,266.5 L62,254.5 78,254.5\" fill=\"currentColor\"/>\n",
       "</g>\n",
       "\n",
       "<g class=\"displacy-arrow\">\n",
       "    <path class=\"displacy-arc\" id=\"arrow-fb2a2902ec8048799fd6e658c15178ed-0-1\" stroke-width=\"2px\" d=\"M245,264.5 C245,2.0 750.0,2.0 750.0,264.5\" fill=\"none\" stroke=\"currentColor\"/>\n",
       "    <text dy=\"1.25em\" style=\"font-size: 0.8em; letter-spacing: 1px\">\n",
       "        <textPath xlink:href=\"#arrow-fb2a2902ec8048799fd6e658c15178ed-0-1\" class=\"displacy-label\" startOffset=\"50%\" side=\"left\" fill=\"currentColor\" text-anchor=\"middle\">acl</textPath>\n",
       "    </text>\n",
       "    <path class=\"displacy-arrowhead\" d=\"M245,266.5 L237,254.5 253,254.5\" fill=\"currentColor\"/>\n",
       "</g>\n",
       "\n",
       "<g class=\"displacy-arrow\">\n",
       "    <path class=\"displacy-arc\" id=\"arrow-fb2a2902ec8048799fd6e658c15178ed-0-2\" stroke-width=\"2px\" d=\"M420,264.5 C420,89.5 745.0,89.5 745.0,264.5\" fill=\"none\" stroke=\"currentColor\"/>\n",
       "    <text dy=\"1.25em\" style=\"font-size: 0.8em; letter-spacing: 1px\">\n",
       "        <textPath xlink:href=\"#arrow-fb2a2902ec8048799fd6e658c15178ed-0-2\" class=\"displacy-label\" startOffset=\"50%\" side=\"left\" fill=\"currentColor\" text-anchor=\"middle\">nmod:poss</textPath>\n",
       "    </text>\n",
       "    <path class=\"displacy-arrowhead\" d=\"M420,266.5 L412,254.5 428,254.5\" fill=\"currentColor\"/>\n",
       "</g>\n",
       "\n",
       "<g class=\"displacy-arrow\">\n",
       "    <path class=\"displacy-arc\" id=\"arrow-fb2a2902ec8048799fd6e658c15178ed-0-3\" stroke-width=\"2px\" d=\"M595,264.5 C595,177.0 740.0,177.0 740.0,264.5\" fill=\"none\" stroke=\"currentColor\"/>\n",
       "    <text dy=\"1.25em\" style=\"font-size: 0.8em; letter-spacing: 1px\">\n",
       "        <textPath xlink:href=\"#arrow-fb2a2902ec8048799fd6e658c15178ed-0-3\" class=\"displacy-label\" startOffset=\"50%\" side=\"left\" fill=\"currentColor\" text-anchor=\"middle\">amod</textPath>\n",
       "    </text>\n",
       "    <path class=\"displacy-arrowhead\" d=\"M595,266.5 L587,254.5 603,254.5\" fill=\"currentColor\"/>\n",
       "</g>\n",
       "\n",
       "<g class=\"displacy-arrow\">\n",
       "    <path class=\"displacy-arc\" id=\"arrow-fb2a2902ec8048799fd6e658c15178ed-0-4\" stroke-width=\"2px\" d=\"M770,264.5 C770,177.0 915.0,177.0 915.0,264.5\" fill=\"none\" stroke=\"currentColor\"/>\n",
       "    <text dy=\"1.25em\" style=\"font-size: 0.8em; letter-spacing: 1px\">\n",
       "        <textPath xlink:href=\"#arrow-fb2a2902ec8048799fd6e658c15178ed-0-4\" class=\"displacy-label\" startOffset=\"50%\" side=\"left\" fill=\"currentColor\" text-anchor=\"middle\">nsubj</textPath>\n",
       "    </text>\n",
       "    <path class=\"displacy-arrowhead\" d=\"M770,266.5 L762,254.5 778,254.5\" fill=\"currentColor\"/>\n",
       "</g>\n",
       "\n",
       "<g class=\"displacy-arrow\">\n",
       "    <path class=\"displacy-arc\" id=\"arrow-fb2a2902ec8048799fd6e658c15178ed-0-5\" stroke-width=\"2px\" d=\"M945,264.5 C945,177.0 1090.0,177.0 1090.0,264.5\" fill=\"none\" stroke=\"currentColor\"/>\n",
       "    <text dy=\"1.25em\" style=\"font-size: 0.8em; letter-spacing: 1px\">\n",
       "        <textPath xlink:href=\"#arrow-fb2a2902ec8048799fd6e658c15178ed-0-5\" class=\"displacy-label\" startOffset=\"50%\" side=\"left\" fill=\"currentColor\" text-anchor=\"middle\">xcomp</textPath>\n",
       "    </text>\n",
       "    <path class=\"displacy-arrowhead\" d=\"M1090.0,266.5 L1098.0,254.5 1082.0,254.5\" fill=\"currentColor\"/>\n",
       "</g>\n",
       "\n",
       "<g class=\"displacy-arrow\">\n",
       "    <path class=\"displacy-arc\" id=\"arrow-fb2a2902ec8048799fd6e658c15178ed-0-6\" stroke-width=\"2px\" d=\"M1120,264.5 C1120,177.0 1265.0,177.0 1265.0,264.5\" fill=\"none\" stroke=\"currentColor\"/>\n",
       "    <text dy=\"1.25em\" style=\"font-size: 0.8em; letter-spacing: 1px\">\n",
       "        <textPath xlink:href=\"#arrow-fb2a2902ec8048799fd6e658c15178ed-0-6\" class=\"displacy-label\" startOffset=\"50%\" side=\"left\" fill=\"currentColor\" text-anchor=\"middle\">obl</textPath>\n",
       "    </text>\n",
       "    <path class=\"displacy-arrowhead\" d=\"M1265.0,266.5 L1273.0,254.5 1257.0,254.5\" fill=\"currentColor\"/>\n",
       "</g>\n",
       "\n",
       "<g class=\"displacy-arrow\">\n",
       "    <path class=\"displacy-arc\" id=\"arrow-fb2a2902ec8048799fd6e658c15178ed-0-7\" stroke-width=\"2px\" d=\"M1295,264.5 C1295,177.0 1440.0,177.0 1440.0,264.5\" fill=\"none\" stroke=\"currentColor\"/>\n",
       "    <text dy=\"1.25em\" style=\"font-size: 0.8em; letter-spacing: 1px\">\n",
       "        <textPath xlink:href=\"#arrow-fb2a2902ec8048799fd6e658c15178ed-0-7\" class=\"displacy-label\" startOffset=\"50%\" side=\"left\" fill=\"currentColor\" text-anchor=\"middle\">nummod</textPath>\n",
       "    </text>\n",
       "    <path class=\"displacy-arrowhead\" d=\"M1440.0,266.5 L1448.0,254.5 1432.0,254.5\" fill=\"currentColor\"/>\n",
       "</g>\n",
       "\n",
       "<g class=\"displacy-arrow\">\n",
       "    <path class=\"displacy-arc\" id=\"arrow-fb2a2902ec8048799fd6e658c15178ed-0-8\" stroke-width=\"2px\" d=\"M1295,264.5 C1295,89.5 1620.0,89.5 1620.0,264.5\" fill=\"none\" stroke=\"currentColor\"/>\n",
       "    <text dy=\"1.25em\" style=\"font-size: 0.8em; letter-spacing: 1px\">\n",
       "        <textPath xlink:href=\"#arrow-fb2a2902ec8048799fd6e658c15178ed-0-8\" class=\"displacy-label\" startOffset=\"50%\" side=\"left\" fill=\"currentColor\" text-anchor=\"middle\">case</textPath>\n",
       "    </text>\n",
       "    <path class=\"displacy-arrowhead\" d=\"M1620.0,266.5 L1628.0,254.5 1612.0,254.5\" fill=\"currentColor\"/>\n",
       "</g>\n",
       "</svg></span>"
      ],
      "text/plain": [
       "<IPython.core.display.HTML object>"
      ]
     },
     "metadata": {},
     "output_type": "display_data"
    }
   ],
   "source": [
    "# Import the displacy module\n",
    "from spacy import displacy\n",
    "\n",
    "# Render the parse tree for the example\n",
    "displacy.render(example_doc, style='dep')"
   ]
  },
  {
   "cell_type": "markdown",
   "id": "a344f35b",
   "metadata": {
    "deletable": false
   },
   "source": [
    "### 4.1 Loop over the *Doc* object `example_doc` (2 points)\n",
    "\n",
    "Loop over the *Doc* object under the variable `example_doc` and print out each *Token*, its index in the *Doc* object, and its morphological features."
   ]
  },
  {
   "cell_type": "code",
   "execution_count": 5,
   "id": "856299d3",
   "metadata": {
    "test": "loop"
   },
   "outputs": [
    {
     "name": "stdout",
     "output_type": "stream",
     "text": [
      "Papua-Uuteen-Guineaan 0 Case=Ill|Number=Sing\n",
      "kuuluva 1 Case=Nom|Degree=Pos|Number=Sing|PartForm=Pres|VerbForm=Part|Voice=Act\n",
      "Bougainvillen 2 Case=Gen|Number=Sing\n",
      "autonominen 3 Case=Nom|Degree=Pos|Derivation=Inen|Number=Sing\n",
      "alue 4 Case=Nom|Number=Sing\n",
      "pyrkii 5 Mood=Ind|Number=Sing|Person=3|Tense=Pres|VerbForm=Fin|Voice=Act\n",
      "itsenäistymään 6 Case=Ill|InfForm=3|Number=Sing|VerbForm=Inf|Voice=Act\n",
      "vuoteen 7 Case=Ill|Number=Sing\n",
      "2027 8 NumType=Card\n",
      "mennessä 9 AdpType=Post\n",
      ". 10 \n"
     ]
    }
   ],
   "source": [
    "# Write your answer below this line\n",
    "for token in example_doc:\n",
    "    \n",
    "    # Print the token, its lemma, dependency and morphological features\n",
    "    print(token, token.i, token.morph)"
   ]
  },
  {
   "cell_type": "markdown",
   "id": "e584e6a3",
   "metadata": {
    "deletable": false
   },
   "source": [
    "### 4.2 Examine the dependencies and answer the following questions (4 points)\n",
    "\n",
    "Examine the visualisation above and answer the following questions.\n",
    "\n",
    "- How many dependents does the *Token* at index 4 have? Assign the number under the variable `deps`.\n",
    "- What is the index of the Token that acts as the **head** of the dependency relation `nsubj`? Assign the index under the variable `head`.\n",
    "- What is the index of the Token that acts as the **root** of the parse tree? Assign the index under the variable `root`.\n",
    "- What are the morphological features of the *Token* at index 9? Assign these features as a string under the variable `morph`.\n",
    "\n",
    "Insert your answers in the cell below.\n",
    "\n",
    "Note that you do **not** have to retrieve the answers programmatically – simply examine the visualisation above!"
   ]
  },
  {
   "cell_type": "code",
   "execution_count": 6,
   "id": "9b38f92b",
   "metadata": {
    "deletable": false,
    "test": "dependencies"
   },
   "outputs": [],
   "source": [
    "# Write your answer below this line\n",
    "deps= 3\n",
    "head = 5\n",
    "root = 5\n",
    "morph = 'AdpType=Post'"
   ]
  },
  {
   "cell_type": "markdown",
   "id": "ecb36043",
   "metadata": {
    "deletable": false
   },
   "source": [
    "## 5. Get the dependents of a *Token* using spaCy (3 points)\n",
    "\n",
    "Use the attributes of a *Token* object to retrieve the *Tokens* that depend on the *Token* at index 7 in the *Doc* object `example_doc`.\n",
    "\n",
    "Cast the output into a list and store the list under the variable `deps_7`."
   ]
  },
  {
   "cell_type": "code",
   "execution_count": 7,
   "id": "527bc37e",
   "metadata": {
    "deletable": false,
    "test": "get_deps"
   },
   "outputs": [
    {
     "data": {
      "text/plain": [
       "[2027, mennessä]"
      ]
     },
     "execution_count": 7,
     "metadata": {},
     "output_type": "execute_result"
    }
   ],
   "source": [
    "# Write your answer below this line\n",
    "\n",
    "for token in example_doc:\n",
    "    if token.i == 7:\n",
    "        deps_7 = list(token.children)\n",
    "deps_7        "
   ]
  },
  {
   "cell_type": "markdown",
   "id": "99c57870",
   "metadata": {
    "deletable": false
   },
   "source": [
    "## 6. Get dependents positioned left and right of a *Token* (3 points)\n",
    "\n",
    "Use the attributes of a *Token* object to retrieve the syntactic dependents positioned left and right of the *Token* at index 1.\n",
    "\n",
    "Cast the results into lists, and store the result under the variables `left` and `right`, respectively."
   ]
  },
  {
   "cell_type": "code",
   "execution_count": 9,
   "id": "694994c0",
   "metadata": {
    "deletable": false,
    "test": "get_lr"
   },
   "outputs": [],
   "source": [
    "# Write your answer below this line\n",
    "left = list(example_doc[1].lefts)\n",
    "right = list(example_doc[1].rights)"
   ]
  },
  {
   "cell_type": "markdown",
   "id": "d7543b24",
   "metadata": {
    "deletable": false
   },
   "source": [
    "## 7. Get the subtree for the head of the dependency relation `acl` (4 points)\n",
    "\n",
    "Use the attributes of the *Token* object to retrieve the subtree for the head of the dependency relation `acl` in the *Doc* object `example_doc`.\n",
    "\n",
    "Cast the result into a list and assign the result under the variable `stree`."
   ]
  },
  {
   "cell_type": "code",
   "execution_count": 40,
   "id": "17a388fd",
   "metadata": {
    "deletable": false,
    "test": "subtree"
   },
   "outputs": [],
   "source": [
    "# Write your answer below this line\n",
    "\n",
    "\n",
    "for token in example_doc:\n",
    "    \n",
    "    # Check if the Token has the dependency relation 'acl:relcl',\n",
    "    # which stands for a relative clause\n",
    "    if token.dep_ == 'acl':\n",
    "        \n",
    "        # If the Token has this dependency, use the subtree attribute\n",
    "        # to fetch all dependents below this Token. The subtree attribute\n",
    "        # returns a generator, so cast the result into a list and print.\n",
    "        head_token = token.head\n",
    "\n",
    "        stree = list(head_token.subtree)"
   ]
  },
  {
   "cell_type": "code",
   "execution_count": 41,
   "id": "9c9cd94e-438f-4290-bf14-e8864fc91be7",
   "metadata": {},
   "outputs": [
    {
     "data": {
      "text/plain": [
       "[Papua-Uuteen-Guineaan, kuuluva, Bougainvillen, autonominen, alue]"
      ]
     },
     "execution_count": 41,
     "metadata": {},
     "output_type": "execute_result"
    }
   ],
   "source": [
    "stree"
   ]
  },
  {
   "cell_type": "code",
   "execution_count": null,
   "id": "6d96cf15-8915-4b33-956f-5a1f71bcbf99",
   "metadata": {},
   "outputs": [],
   "source": []
  }
 ],
 "metadata": {
  "celltoolbar": "Edit Metadata",
  "kernelspec": {
   "display_name": "Python 3 (ipykernel)",
   "language": "python",
   "name": "python3"
  },
  "language_info": {
   "codemirror_mode": {
    "name": "ipython",
    "version": 3
   },
   "file_extension": ".py",
   "mimetype": "text/x-python",
   "name": "python",
   "nbconvert_exporter": "python",
   "pygments_lexer": "ipython3",
   "version": "3.9.7"
  }
 },
 "nbformat": 4,
 "nbformat_minor": 5
}
