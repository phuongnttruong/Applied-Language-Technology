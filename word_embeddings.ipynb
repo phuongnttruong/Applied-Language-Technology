{
 "cells": [
  {
   "cell_type": "markdown",
   "id": "upset-player",
   "metadata": {
    "deletable": false
   },
   "source": [
    "# Word embeddings\n",
    "\n",
    "See the learning materials associated with this exercise <a href=\"https://applied-language-technology.mooc.fi/html/notebooks/part_iii/05_embeddings_continued.html\" target=\"blank_\">here</a>.\n",
    "\n",
    "For instructions on how to use TestMyCode (TMC) to test your code and submit it to the server, see <a href=\"https://applied-language-technology.mooc.fi/html/tmc.html\" target=\"blank_\">here</a>.\n",
    "\n",
    "Remember to save this Notebook before testing your code. Press <kbd>Control</kbd>+<kbd>s</kbd> or select the *File* menu and click *Save*.\n",
    "\n",
    "**The maximum number of points for this exercise is 25.**"
   ]
  },
  {
   "cell_type": "markdown",
   "id": "virgin-bangladesh",
   "metadata": {
    "deletable": false
   },
   "source": [
    "## 1. Load a large language model for English (3 points)\n",
    "\n",
    "Load a large language model for English (`en_core_web_lg`) and assign the resulting *Language* object under the variable `nlp_lrg`."
   ]
  },
  {
   "cell_type": "code",
   "execution_count": 7,
   "id": "intimate-shelf",
   "metadata": {
    "deletable": false,
    "test": "load_model"
   },
   "outputs": [
    {
     "data": {
      "text/plain": [
       "\u001b[1m[TMC]\u001b[0m \u001b[92mThe variable \"nlp_lrg\" was defined successfully! 1 point.\u001b[0m"
      ]
     },
     "execution_count": 7,
     "metadata": {},
     "output_type": "execute_result"
    },
    {
     "data": {
      "text/plain": [
       "\u001b[1m[TMC]\u001b[0m \u001b[92mThe variable \"nlp_lrg\" contains a spaCy Language object! 1 point.\u001b[0m"
      ]
     },
     "execution_count": 7,
     "metadata": {},
     "output_type": "execute_result"
    },
    {
     "data": {
      "text/plain": [
       "\u001b[1m[TMC]\u001b[0m \u001b[92mThe variable \"nlp_lrg\" contains a Language object for English! 1 point.\u001b[0m"
      ]
     },
     "execution_count": 7,
     "metadata": {},
     "output_type": "execute_result"
    }
   ],
   "source": [
    "# Import the spaCy library\n",
    "import spacy\n",
    "\n",
    "# Write your answer below this line\n",
    "nlp_lrg = spacy.load('en_core_web_lg')"
   ]
  },
  {
   "cell_type": "markdown",
   "id": "sixth-accommodation",
   "metadata": {
    "deletable": false
   },
   "source": [
    "## 2. Feed text to the language model (3 points)\n",
    "\n",
    "Feed the string objects stored under variables `text_1` and `text_2` to the language model under `nlp_lrg`.\n",
    "\n",
    "Store the results under the variables `doc_1` and `doc_2`, respectively."
   ]
  },
  {
   "cell_type": "code",
   "execution_count": 12,
   "id": "quarterly-doctrine",
   "metadata": {
    "deletable": false,
    "test": "process_text"
   },
   "outputs": [
    {
     "data": {
      "text/plain": [
       "\u001b[1m[TMC]\u001b[0m \u001b[92mThe variables \"doc_1\" and \"doc_2\" were defined successfully! 1 point.\u001b[0m"
      ]
     },
     "execution_count": 12,
     "metadata": {},
     "output_type": "execute_result"
    },
    {
     "data": {
      "text/plain": [
       "\u001b[1m[TMC]\u001b[0m \u001b[92mThe variables \"doc_1\" and \"doc_2\" contain spaCy Doc objects! 2 points.\u001b[0m"
      ]
     },
     "execution_count": 12,
     "metadata": {},
     "output_type": "execute_result"
    }
   ],
   "source": [
    "# Define two example texts\n",
    "text_1 = \"With around 570,000 inhabitants, the Hanseatic city is the 11th largest city of Germany as well as the second largest city in Northern Germany after Hamburg.\"\n",
    "text_2 = \"Bremen is the fourth largest city in the Low German dialect area after Hamburg, Dortmund and Essen.\"\n",
    "\n",
    "# Write your answer below this line\n",
    "doc_1 = nlp_lrg(text_1)\n",
    "doc_2 = nlp_lrg(text_2)"
   ]
  },
  {
   "cell_type": "code",
   "execution_count": 12,
   "id": "2909353b-0e53-4570-9814-79cdea80e2a0",
   "metadata": {},
   "outputs": [
    {
     "data": {
      "text/plain": [
       "Bremen is the fourth largest city in the Low German dialect area after Hamburg, Dortmund and Essen."
      ]
     },
     "execution_count": 12,
     "metadata": {},
     "output_type": "execute_result"
    }
   ],
   "source": [
    "doc_2"
   ]
  },
  {
   "cell_type": "markdown",
   "id": "instant-yacht",
   "metadata": {
    "deletable": false
   },
   "source": [
    "## 3. Compare the similarity of `doc_1` and `doc_2`  (3 points)\n",
    "\n",
    "Compare cosine similarity of the vectors for `doc_1` and `doc_2`. Assign the result under the variable `cosine_docs`."
   ]
  },
  {
   "cell_type": "code",
   "execution_count": 15,
   "id": "waiting-masters",
   "metadata": {
    "deletable": false,
    "test": "doc_similarity"
   },
   "outputs": [
    {
     "data": {
      "text/plain": [
       "\u001b[1m[TMC]\u001b[0m \u001b[92mThe variable \"cosine_docs\" was defined successfully! 1 point.\u001b[0m"
      ]
     },
     "execution_count": 15,
     "metadata": {},
     "output_type": "execute_result"
    },
    {
     "data": {
      "text/plain": [
       "\u001b[1m[TMC]\u001b[0m \u001b[92mThe variable \"cosine_docs\" contains the expected value! 2 points.\u001b[0m"
      ]
     },
     "execution_count": 15,
     "metadata": {},
     "output_type": "execute_result"
    }
   ],
   "source": [
    "# Write your answer below this line\n",
    "cosine_docs = doc_1.similarity(doc_2)\n",
    "cosine_docs\n"
   ]
  },
  {
   "cell_type": "markdown",
   "id": "saving-settlement",
   "metadata": {
    "deletable": false
   },
   "source": [
    "## 4. Get noun phrases in `doc_1` and `doc_2` (3 points)\n",
    "\n",
    "Get the noun phrases (available under the attribute `noun_chunks`) from the *Doc* objects `doc_1` and `doc_2`. \n",
    "\n",
    "Cast the outputs into Python lists and assign the lists to the variables `chunks_1` and `chunks_2`, respectively. "
   ]
  },
  {
   "cell_type": "code",
   "execution_count": 16,
   "id": "complex-insurance",
   "metadata": {
    "deletable": false,
    "test": "get_noun_phrases"
   },
   "outputs": [
    {
     "data": {
      "text/plain": [
       "\u001b[1m[TMC]\u001b[0m \u001b[92mThe variables \"chunks_1\" and \"chunks_2\" were defined successfully! 1 point.\u001b[0m"
      ]
     },
     "execution_count": 16,
     "metadata": {},
     "output_type": "execute_result"
    },
    {
     "data": {
      "text/plain": [
       "\u001b[1m[TMC]\u001b[0m \u001b[92mThe variables \"chunks_1\" and \"chunks_2\" contain list objects! 1 point.\u001b[0m"
      ]
     },
     "execution_count": 16,
     "metadata": {},
     "output_type": "execute_result"
    },
    {
     "data": {
      "text/plain": [
       "\u001b[1m[TMC]\u001b[0m \u001b[92mThe variables \"chunks_1\" and \"chunks_2\" contain the expected values! 1 point.\u001b[0m"
      ]
     },
     "execution_count": 16,
     "metadata": {},
     "output_type": "execute_result"
    }
   ],
   "source": [
    "# Write your answer below this line\n",
    "chunks_1 = list(doc_1.noun_chunks)\n",
    "chunks_2 = list(doc_2.noun_chunks)"
   ]
  },
  {
   "cell_type": "code",
   "execution_count": 15,
   "id": "3ef0c729-4c17-45a2-9638-7ec60e1a3190",
   "metadata": {},
   "outputs": [
    {
     "data": {
      "text/plain": [
       "[around 570,000 inhabitants,\n",
       " the Hanseatic city,\n",
       " the 11th largest city,\n",
       " Germany,\n",
       " the second largest city,\n",
       " Northern Germany,\n",
       " Hamburg]"
      ]
     },
     "execution_count": 15,
     "metadata": {},
     "output_type": "execute_result"
    }
   ],
   "source": [
    "chunks_1"
   ]
  },
  {
   "cell_type": "markdown",
   "id": "fuzzy-november",
   "metadata": {
    "deletable": false
   },
   "source": [
    "## 5. Compare the similarity of noun phrases (3 points)\n",
    "\n",
    "The second item in the list `chunks_1` contains the noun phrase \"the Hanseatic city\". Compare cosine similarity between this noun phrase and\n",
    "\n",
    " 1. The first item in the list `chunks_2` (Bremen) and store the result under the variable `bremen`.\n",
    " 2. The fourth item in the list `chunks_2` (Hamburg) and store the result under the variable `hamburg`.\n",
    " \n",
    "Tip: Keep in mind that items in lists can be accessed using brackets. Accessing an item in a list gives access to the methods and attributes associated with the list item."
   ]
  },
  {
   "cell_type": "code",
   "execution_count": 18,
   "id": "forty-hands",
   "metadata": {
    "deletable": false,
    "test": "np_similarity"
   },
   "outputs": [
    {
     "data": {
      "text/plain": [
       "\u001b[1m[TMC]\u001b[0m \u001b[92mThe variables \"bremen\" and \"hamburg\" were defined successfully! 1 point.\u001b[0m"
      ]
     },
     "execution_count": 18,
     "metadata": {},
     "output_type": "execute_result"
    },
    {
     "data": {
      "text/plain": [
       "\u001b[1m[TMC]\u001b[0m \u001b[92mThe variables \"bremen\" and \"hamburg\" contain the expected values! 2 points.\u001b[0m"
      ]
     },
     "execution_count": 18,
     "metadata": {},
     "output_type": "execute_result"
    }
   ],
   "source": [
    "# Write your answer below this line\n",
    "bremen = chunks_1[1].similarity(chunks_2[0])\n",
    "hamburg = chunks_1[1].similarity(chunks_2[3])"
   ]
  },
  {
   "cell_type": "markdown",
   "id": "disturbed-millennium",
   "metadata": {
    "deletable": false
   },
   "source": [
    "## 6. Bremen, Hamburg and other Hanseatic cities (3 points)\n",
    "\n",
    "In terms of cosine similarity, a comparison between the vector for \"the Hanseatic city\" and the vectors for \"Bremen\" and \"Hamburg\" are only somewhat similar, although both Bremen and Hamburg are Hanseatic cities. How come this information is not captured by the vectors?\n",
    "\n",
    " 1. One cannot compare vectors for proper nouns and noun phrases using cosine similarity.\n",
    " 2. Vector representations for units larger than a single token may lose some information, because they are constructed by averaging the vectors for each token.\n",
    " 3. Word embeddings cannot capture this kind of information.\n",
    " \n",
    "Assign the number corresponding to the correct answer under the variable `answer_1`."
   ]
  },
  {
   "cell_type": "code",
   "execution_count": 1,
   "id": "humanitarian-collaboration",
   "metadata": {
    "deletable": false,
    "test": "question_6"
   },
   "outputs": [
    {
     "data": {
      "text/plain": [
       "\u001b[1m[TMC]\u001b[0m \u001b[92mThe variable \"answer_1\" was defined successfully! \u001b[0m"
      ]
     },
     "execution_count": 1,
     "metadata": {},
     "output_type": "execute_result"
    },
    {
     "data": {
      "text/plain": [
       "\u001b[1m[TMC]\u001b[0m \u001b[92mThe variable \"answer_1\" contains an integer.\u001b[0m"
      ]
     },
     "execution_count": 1,
     "metadata": {},
     "output_type": "execute_result"
    },
    {
     "data": {
      "text/plain": [
       "\u001b[1m[TMC]\u001b[0m \u001b[92mThe variables \"bremen\" and \"hamburg\" contain the expected values!\u001b[0m"
      ]
     },
     "execution_count": 1,
     "metadata": {},
     "output_type": "execute_result"
    },
    {
     "data": {
      "text/plain": [
       "\u001b[1m[TMC]\u001b[0m \u001b[92mYour answer is correct! 3 points.\u001b[0m"
      ]
     },
     "execution_count": 1,
     "metadata": {},
     "output_type": "execute_result"
    }
   ],
   "source": [
    "# Write your answer below this line\n",
    "answer_1 = 2"
   ]
  },
  {
   "cell_type": "code",
   "execution_count": 18,
   "id": "4eb8e2c6-48b3-4ee5-9f43-f0f981f6fb07",
   "metadata": {},
   "outputs": [
    {
     "data": {
      "text/plain": [
       "Bremen is the fourth largest city in the Low German dialect area after Hamburg, Dortmund and Essen."
      ]
     },
     "execution_count": 18,
     "metadata": {},
     "output_type": "execute_result"
    }
   ],
   "source": [
    "doc_2"
   ]
  },
  {
   "cell_type": "markdown",
   "id": "brave-turkish",
   "metadata": {
    "deletable": false
   },
   "source": [
    "## 7. Compare cosine similarity between several nouns (7 points)\n",
    "\n",
    "The spaCy *Doc* object under the variable `doc_2` contains *Tokens* that refer to several cities in Germany: Bremen (at index `0`), Hamburg (`13`), Dortmund (`15`) and Essen (`17`).\n",
    "\n",
    " 1. Retrieve the 300-dimensional word vectors for each *Token* mentioned above, and add them into a Python list ordered by their index. Assign the list under the variable `vector_list`.\n",
    " 2. Use the `vstack()` function from the NumPy library to combine the vectors in `vector_list` into a NumPy matrix. Assign the result under the variable `matrix`.\n",
    " 3. Use the `cosine_similarity()` function to measure cosine similarity between each vector in the matrix. Assign the result under the variable `cos_matrix`.\n",
    " 4. Use the `heatmap()` function from the seaborn library to draw a heatmap of pairwise cosine similarities in `cos_matrix`.\n",
    "\n",
    "Tip: Word vectors for various spaCy objects can be accessed using the attribute `vector`."
   ]
  },
  {
   "cell_type": "code",
   "execution_count": 22,
   "id": "compound-running",
   "metadata": {
    "deletable": false,
    "test": "heatmap"
   },
   "outputs": [
    {
     "data": {
      "text/plain": [
       "\u001b[1m[TMC]\u001b[0m \u001b[92mThe variable \"cos_matrix\" has the correct shape.\u001b[0m"
      ]
     },
     "execution_count": 22,
     "metadata": {},
     "output_type": "execute_result"
    },
    {
     "data": {
      "text/plain": [
       "\u001b[1m[TMC]\u001b[0m \u001b[92mThe variables \"vector_list\", \"matrix\" and \"cos_matrix\" were defined successfully!\u001b[0m"
      ]
     },
     "execution_count": 22,
     "metadata": {},
     "output_type": "execute_result"
    },
    {
     "data": {
      "text/plain": [
       "\u001b[1m[TMC]\u001b[0m \u001b[92mThe variable \"cos_matrix\" contains the expected values! 4 points.\u001b[0m"
      ]
     },
     "execution_count": 22,
     "metadata": {},
     "output_type": "execute_result"
    }
   ],
   "source": [
    "# Import the necessary libraries and their components\n",
    "import numpy as np\n",
    "from sklearn.metrics.pairwise import cosine_similarity\n",
    "from seaborn import heatmap\n",
    "\n",
    "# Write your answer below this line\n",
    "vector_list = [token.vector for token in [doc_2[0], doc_2[13], doc_2[15], doc_2[17]]]\n",
    "\n",
    "# Convert the list of vectors into a NumPy matrix\n",
    "matrix = np.vstack(vector_list)\n",
    "\n",
    "# Measure cosine similarity between each vector in the matrix\n",
    "cos_matrix = cosine_similarity(matrix)\n",
    "\n",
    "# Draw a heatmap of pairwise cosine similarities\n",
    "heatmap(cos_matrix, annot=True, cmap=\"YlGnBu\", xticklabels=[str(token) for token in [doc_2[0], doc_2[13], doc_2[15], doc_2[17]]], yticklabels=[str(token) for token in [doc_2[0], doc_2[13], doc_2[15], doc_2[17]]])\n",
    "\n"
   ]
  },
  {
   "cell_type": "markdown",
   "id": "fae4e879",
   "metadata": {
    "deletable": false
   },
   "source": [
    "Which pair of *Tokens* has the highest cosine similarity?\n",
    "\n",
    " 1. Bremen (0) and Hamburg (1)\n",
    " 2. Hamburg (1) and Essen (3)\n",
    " 3. Dortmund (2) and Essen (3)\n",
    "\n",
    "Assign the number corresponding to the correct answer under the variable `answer_2`."
   ]
  },
  {
   "cell_type": "code",
   "execution_count": 1,
   "id": "604d2a88",
   "metadata": {
    "deletable": false,
    "test": "question_7"
   },
   "outputs": [
    {
     "data": {
      "text/plain": [
       "\u001b[1m[TMC]\u001b[0m \u001b[92mThe variable \"answer_2\" was defined successfully! \u001b[0m"
      ]
     },
     "execution_count": 1,
     "metadata": {},
     "output_type": "execute_result"
    },
    {
     "data": {
      "text/plain": [
       "\u001b[1m[TMC]\u001b[0m \u001b[92mThe variable \"answer_2\" contains an integer.\u001b[0m"
      ]
     },
     "execution_count": 1,
     "metadata": {},
     "output_type": "execute_result"
    },
    {
     "data": {
      "text/plain": [
       "\u001b[1m[TMC]\u001b[0m \u001b[92mThe variable \"cos_matrix\" contains the expected values!\u001b[0m"
      ]
     },
     "execution_count": 1,
     "metadata": {},
     "output_type": "execute_result"
    },
    {
     "data": {
      "text/plain": [
       "\u001b[1m[TMC]\u001b[0m \u001b[92mYour answer is correct! 3 points.\u001b[0m"
      ]
     },
     "execution_count": 1,
     "metadata": {},
     "output_type": "execute_result"
    }
   ],
   "source": [
    "# Write your answer below this line\n",
    "answer_2 = 1"
   ]
  }
 ],
 "metadata": {
  "celltoolbar": "Edit Metadata",
  "kernelspec": {
   "display_name": "Python 3 (ipykernel)",
   "language": "python",
   "name": "python3"
  },
  "language_info": {
   "codemirror_mode": {
    "name": "ipython",
    "version": 3
   },
   "file_extension": ".py",
   "mimetype": "text/x-python",
   "name": "python",
   "nbconvert_exporter": "python",
   "pygments_lexer": "ipython3",
   "version": "3.9.7"
  }
 },
 "nbformat": 4,
 "nbformat_minor": 5
}
