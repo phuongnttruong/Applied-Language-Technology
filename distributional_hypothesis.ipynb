{
 "cells": [
  {
   "cell_type": "markdown",
   "id": "laden-fiction",
   "metadata": {
    "deletable": false
   },
   "source": [
    "# The distributional hypothesis\n",
    "\n",
    "See the learning materials associated with this exercise <a href=\"https://applied-language-technology.mooc.fi/html/notebooks/part_iii/04_embeddings.html\" target=\"blank_\">here</a>.\n",
    "\n",
    "For instructions on how to use TestMyCode (TMC) to test your code and submit it to the server, see <a href=\"https://applied-language-technology.mooc.fi/html/tmc.html\" target=\"blank_\">here</a>.\n",
    "\n",
    "Remember to save this Notebook before testing your code. Press <kbd>Control</kbd>+<kbd>s</kbd> or select the *File* menu and click *Save*.\n",
    "\n",
    "**The maximum number of points for this exercise is 15.**"
   ]
  },
  {
   "cell_type": "markdown",
   "id": "macro-throw",
   "metadata": {
    "deletable": false
   },
   "source": [
    "## 1. The distributional hypothesis (3 points)\n",
    "\n",
    "The English linguist J. R. Firth famously stated: \"You shall know a word by the company it keeps.\"\n",
    "\n",
    "Firth meant that inferring the meaning of a word requires observing the interplay of grammar, lexis, phonetics and semantics in a given situation involving language use.\n",
    "\n",
    "Zellig Harris later proposed a similar idea in the form of the distributional hypothesis. Harris argued that:\n",
    "\n",
    " 1. Words are distributed randomly, hence making predictions about their occurrences is impossible.\n",
    " 2. A word can be described in terms of its co-occurring words, but only if we know more about the situation in which language is used.\n",
    " 3. Counting co-occurring words is enough to capture the meaning of a given word.\n",
    " \n",
    "Assign the number corresponding to the correct answer under the variable `answer_1`, e.g. 1, 2 or 3."
   ]
  },
  {
   "cell_type": "code",
   "execution_count": 1,
   "id": "atlantic-victoria",
   "metadata": {
    "deletable": false,
    "test": "question_1"
   },
   "outputs": [
    {
     "data": {
      "text/plain": [
       "\u001b[1m[TMC]\u001b[0m \u001b[92mThe variable \"answer_1\" was defined successfully! \u001b[0m"
      ]
     },
     "execution_count": 1,
     "metadata": {},
     "output_type": "execute_result"
    },
    {
     "data": {
      "text/plain": [
       "\u001b[1m[TMC]\u001b[0m \u001b[92mThe variable \"answer_1\" contains an integer.\u001b[0m"
      ]
     },
     "execution_count": 1,
     "metadata": {},
     "output_type": "execute_result"
    },
    {
     "data": {
      "text/plain": [
       "\u001b[1m[TMC]\u001b[0m \u001b[92mYour answer is correct! 3 points.\u001b[0m"
      ]
     },
     "execution_count": 1,
     "metadata": {},
     "output_type": "execute_result"
    }
   ],
   "source": [
    "# Write your answer below this line\n",
    "answer_1 = 3"
   ]
  },
  {
   "cell_type": "markdown",
   "id": "corresponding-lodge",
   "metadata": {
    "deletable": false,
    "tags": []
   },
   "source": [
    "## 2. Syntagmatic and paradigmatic structures (3 points)\n",
    "\n",
    "Ferdinand de Saussure proposed that the structure of language (as a system) may be characterised using paradigmatic and syntagmatic axes of organisation.\n",
    "\n",
    "How would you characterise the relationship between paradigmatic and syntagmatic structures?\n",
    "\n",
    " 1. The syntagmatic structure allows making choices, which are combined into larger paradigmatic structures. \n",
    " 2. The syntagmatic structure combines selections made among paradigmatic alternatives into larger units.\n",
    " 3. The paradigmatic and syntagmatic structures are independent of each other.\n",
    "\n",
    "Assign the number corresponding to the correct answer under the variable `answer_2`, e.g. 1, 2 or 3."
   ]
  },
  {
   "cell_type": "code",
   "execution_count": 1,
   "id": "suspended-irish",
   "metadata": {
    "deletable": false,
    "test": "question_2"
   },
   "outputs": [
    {
     "data": {
      "text/plain": [
       "\u001b[1m[TMC]\u001b[0m \u001b[92mThe variable \"answer_2\" was defined successfully! \u001b[0m"
      ]
     },
     "execution_count": 1,
     "metadata": {},
     "output_type": "execute_result"
    },
    {
     "data": {
      "text/plain": [
       "\u001b[1m[TMC]\u001b[0m \u001b[92mThe variable \"answer_2\" contains an integer.\u001b[0m"
      ]
     },
     "execution_count": 1,
     "metadata": {},
     "output_type": "execute_result"
    },
    {
     "data": {
      "text/plain": [
       "\u001b[1m[TMC]\u001b[0m \u001b[92mYour answer is correct! 3 points.\u001b[0m"
      ]
     },
     "execution_count": 1,
     "metadata": {},
     "output_type": "execute_result"
    }
   ],
   "source": [
    "# Write your answer below this line\n",
    "answer_2 = 2"
   ]
  },
  {
   "cell_type": "markdown",
   "id": "material-montana",
   "metadata": {
    "deletable": false
   },
   "source": [
    "## 3. Perspectives to the distributional hypothesis (3 points)\n",
    "\n",
    "According to Magnus Sahlgren, the distributional hypothesis can be approached from both syntagmatic and paradigmatic perspectives when quantifying linguistic information.\n",
    "\n",
    "What is the first step in quantifying linguistic information about syntagmatic structures?\n",
    "\n",
    " 1. Creating a co-occurrence matrix for observing how many times a word co-occurs with another word within some pre-defined distance.\n",
    " 2. Counting unique words and their occurrences across the entire corpus. \n",
    " 3. Identifying unique items in the vocabulary and determining the unit of analysis to be described.\n",
    " \n",
    "Assign the number corresponding to the correct answer under the variable `answer_3`, e.g. 1, 2 or 3."
   ]
  },
  {
   "cell_type": "code",
   "execution_count": 1,
   "id": "flying-advance",
   "metadata": {
    "deletable": false,
    "test": "question_3"
   },
   "outputs": [
    {
     "data": {
      "text/plain": [
       "\u001b[1m[TMC]\u001b[0m \u001b[92mThe variable \"answer_3\" was defined successfully! \u001b[0m"
      ]
     },
     "execution_count": 1,
     "metadata": {},
     "output_type": "execute_result"
    },
    {
     "data": {
      "text/plain": [
       "\u001b[1m[TMC]\u001b[0m \u001b[92mThe variable \"answer_3\" contains an integer.\u001b[0m"
      ]
     },
     "execution_count": 1,
     "metadata": {},
     "output_type": "execute_result"
    },
    {
     "data": {
      "text/plain": [
       "\u001b[1m[TMC]\u001b[0m \u001b[92mYour answer is correct! 3 points.\u001b[0m"
      ]
     },
     "execution_count": 1,
     "metadata": {},
     "output_type": "execute_result"
    }
   ],
   "source": [
    "# Write your answer below this line\n",
    "answer_3 = 3"
   ]
  },
  {
   "cell_type": "markdown",
   "id": "separate-documentary",
   "metadata": {
    "deletable": false
   },
   "source": [
    "## 4. One-hot encoding (3 points)\n",
    "\n",
    "The following table contains one-hot encoded vectors for tokens.\n",
    "\n",
    "```\n",
    "in     [1, 0, 0, 0, 0, 0, 0]\n",
    "cats   [0, 1, 0, 0, 0, 0, 0]\n",
    "grey   [0, 0, 1, 0, 0, 0, 0]\n",
    "are    [0, 0, 0, 1, 0, 0, 0]\n",
    "all    [0, 0, 0, 0, 1, 0, 0]\n",
    "the    [0, 0, 0, 0, 0, 1, 0]\n",
    "dark   [0, 0, 0, 0, 0, 0, 1]\n",
    "\n",
    "```\n",
    "\n",
    "Which phrase is encoded into the following matrix?\n",
    "\n",
    "```\n",
    "[[0, 0, 0, 0, 0, 1, 0],\n",
    " [0, 1, 0, 0, 0, 0, 0],\n",
    " [0, 0, 0, 1, 0, 0, 0],\n",
    " [0, 0, 1, 0, 0, 0, 0]]\n",
    "```\n",
    "\n",
    "Enter the answer as a string object under the variable `answer_4`."
   ]
  },
  {
   "cell_type": "code",
   "execution_count": 1,
   "id": "ignored-hostel",
   "metadata": {
    "deletable": false,
    "test": "question_4"
   },
   "outputs": [
    {
     "data": {
      "text/plain": [
       "\u001b[1m[TMC]\u001b[0m \u001b[92mThe variable \"answer_4\" was defined successfully! \u001b[0m"
      ]
     },
     "execution_count": 1,
     "metadata": {},
     "output_type": "execute_result"
    },
    {
     "data": {
      "text/plain": [
       "\u001b[1m[TMC]\u001b[0m \u001b[92mThe variable \"answer_4\" contains a string.\u001b[0m"
      ]
     },
     "execution_count": 1,
     "metadata": {},
     "output_type": "execute_result"
    },
    {
     "data": {
      "text/plain": [
       "\u001b[1m[TMC]\u001b[0m \u001b[92mYour answer is correct! 3 points.\u001b[0m"
      ]
     },
     "execution_count": 1,
     "metadata": {},
     "output_type": "execute_result"
    }
   ],
   "source": [
    "# Write your answer below this line\n",
    "answer_4 ='the cats are grey'"
   ]
  },
  {
   "cell_type": "markdown",
   "id": "technical-robin",
   "metadata": {
    "deletable": false
   },
   "source": [
    "## 5. Algorithms as an abstraction mechanism (3 points)\n",
    "\n",
    "Modern approaches to distributed semantics use algorithms, such as neural networks, as the abstraction mechanism for learning numerical representations for linguistic units.\n",
    "\n",
    "These representations are learned through a proxy task, such as predicting the following word, which forces the network to learn representations that characterise the context in which each word is used.\n",
    "\n",
    "After the training procedure, the representations for each word are extracted from the hidden layer of the neural network.\n",
    "\n",
    "What happens to the size of the hidden layer when the size of the input vocabulary increases? \n",
    "\n",
    " 1. The size of the hidden layer increases.\n",
    " 2. Nothing, the size of the hidden layer remains the same.\n",
    " 3. The size of the hidden layer decreases.\n",
    "\n",
    "Assign the number corresponding to the correct answer under the variable `answer_5`, e.g. 1, 2 or 3."
   ]
  },
  {
   "cell_type": "code",
   "execution_count": 1,
   "id": "rental-bryan",
   "metadata": {
    "deletable": false,
    "test": "question_5"
   },
   "outputs": [
    {
     "data": {
      "text/plain": [
       "\u001b[1m[TMC]\u001b[0m \u001b[92mThe variable \"answer_5\" was defined successfully! \u001b[0m"
      ]
     },
     "execution_count": 1,
     "metadata": {},
     "output_type": "execute_result"
    },
    {
     "data": {
      "text/plain": [
       "\u001b[1m[TMC]\u001b[0m \u001b[92mThe variable \"answer_5\" contains an integer.\u001b[0m"
      ]
     },
     "execution_count": 1,
     "metadata": {},
     "output_type": "execute_result"
    },
    {
     "data": {
      "text/plain": [
       "\u001b[1m[TMC]\u001b[0m \u001b[92mYour answer is correct! 3 points.\u001b[0m"
      ]
     },
     "execution_count": 1,
     "metadata": {},
     "output_type": "execute_result"
    }
   ],
   "source": [
    "# Write your answer below this line\n",
    "answer_5 = 2"
   ]
  }
 ],
 "metadata": {
  "celltoolbar": "Edit Metadata",
  "kernelspec": {
   "display_name": "Python 3 (ipykernel)",
   "language": "python",
   "name": "python3"
  },
  "language_info": {
   "codemirror_mode": {
    "name": "ipython",
    "version": 3
   },
   "file_extension": ".py",
   "mimetype": "text/x-python",
   "name": "python",
   "nbconvert_exporter": "python",
   "pygments_lexer": "ipython3",
   "version": "3.9.7"
  }
 },
 "nbformat": 4,
 "nbformat_minor": 5
}
